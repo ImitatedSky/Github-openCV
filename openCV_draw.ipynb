{
  "nbformat": 4,
  "nbformat_minor": 0,
  "metadata": {
    "colab": {
      "provenance": [],
      "authorship_tag": "ABX9TyON7UjLDEtnQg6ntVrKjz0h",
      "include_colab_link": true
    },
    "kernelspec": {
      "name": "python3",
      "display_name": "Python 3"
    },
    "language_info": {
      "name": "python"
    }
  },
  "cells": [
    {
      "cell_type": "markdown",
      "metadata": {
        "id": "view-in-github",
        "colab_type": "text"
      },
      "source": [
        "<a href=\"https://colab.research.google.com/github/ImitatedSky/Github-openCV/blob/main/openCV_draw.ipynb\" target=\"_parent\"><img src=\"https://colab.research.google.com/assets/colab-badge.svg\" alt=\"Open In Colab\"/></a>"
      ]
    },
    {
      "cell_type": "code",
      "execution_count": null,
      "metadata": {
        "id": "MHclv88bD_yd"
      },
      "outputs": [],
      "source": [
        "import cv2\n",
        "\n",
        "class ImageWindow:\n",
        "    def __init__(self, image_path):\n",
        "        # 讀取圖片\n",
        "        self.img = cv2.imread(image_path)\n",
        "        \n",
        "        # 設定滑鼠事件回呼函式\n",
        "        cv2.namedWindow(\"image\")\n",
        "        cv2.setMouseCallback(\"image\", self.mouse_callback)\n",
        "        \n",
        "        # 顯示圖片\n",
        "        self.show_image()\n",
        "        \n",
        "        # 紀錄目前圓形的中心座標及半徑\n",
        "        self.circle_center = None\n",
        "        self.circle_radius = None\n",
        "        \n",
        "    def show_image(self):\n",
        "        # 顯示圖片\n",
        "        cv2.imshow(\"image\", self.img)\n",
        "        \n",
        "        # 等待按下任意鍵\n",
        "        cv2.waitKey(1)\n",
        "        \n",
        "    def mouse_callback(self, event, x, y, flags, param):\n",
        "        # 清除上一個圓形\n",
        "        if self.circle_center is not None:\n",
        "            cv2.circle(self.img, self.circle_center, self.circle_radius, (0, 0, 0), -1)\n",
        "        \n",
        "        # 繪製新的圓形\n",
        "        if event == cv2.EVENT_LBUTTONDOWN:\n",
        "            self.circle_center = (x, y)\n",
        "            self.circle_radius = 10\n",
        "            cv2.circle(self.img, self.circle_center, self.circle_radius, (0, 0, 255), -1)\n",
        "            self.show_image()\n",
        "        \n",
        "        # 顯示滑鼠座標\n",
        "        if event == cv2.EVENT_MOUSEMOVE and flags == cv2.EVENT_FLAG_LBUTTON:\n",
        "            self.circle_center = (x, y)\n",
        "            self.circle_radius = 10\n",
        "            cv2.circle(self.img, self.circle_center, self.circle_radius, (0, 0, 255), -1)\n",
        "            self.show_image()\n",
        "            \n",
        "    def run(self):\n",
        "        # 等待按下 ESC 鍵後關閉視窗\n",
        "        while True:\n",
        "            if cv2.waitKey(1) == 27:\n",
        "                break\n",
        "        cv2.destroyAllWindows()\n",
        "\n",
        "# 建立 ImageWindow 物件並顯示視窗\n",
        "image_window = ImageWindow(\"image.jpg\")\n",
        "image_window.run()\n"
      ]
    },
    {
      "cell_type": "code",
      "source": [
        "import cv2\n",
        "img = cv2.imread('image.jpg')\n",
        "\n",
        "dot1 = []                          # 記錄第一個座標\n",
        "dot2 = []                          # 記錄第二個座標\n",
        "\n",
        "# 滑鼠事件發生時要執行的函式\n",
        "def show_xy(event,x,y,flags,param):\n",
        "    global dot1, dot2, img         # 在函式內使用全域變數\n",
        "    # 滑鼠拖曳發生時\n",
        "    if flags == 1:\n",
        "        if event == 1:\n",
        "            dot1 = [x, y]          # 按下滑鼠時記錄第一個座標\n",
        "        if event == 0:\n",
        "            img2 = img.copy()      # 拖曳時不斷複製 img\n",
        "            dot2 = [x, y]          # 拖曳時不斷更新第二個座標\n",
        "            # 根據兩個座標繪製四邊形\n",
        "            cv2.rectangle(img2, (dot1[0], dot1[1]), (dot2[0], dot2[1]), (0,0,255), 2)\n",
        "            # 不斷顯示新圖片 ( 如果不這麼做，會出現一堆四邊形殘影 )\n",
        "            cv2.imshow('oxxostudio', img2)\n",
        "\n",
        "cv2.imshow('image', img)\n",
        "cv2.setMouseCallback('image', show_xy)\n",
        "\n",
        "cv2.waitKey(0)   # 按下任意鍵結束\n",
        "cv2.destroyAllWindows()"
      ],
      "metadata": {
        "id": "3LNxdMYOSVy6"
      },
      "execution_count": null,
      "outputs": []
    }
  ]
}