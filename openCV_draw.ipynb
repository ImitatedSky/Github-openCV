{
  "nbformat": 4,
  "nbformat_minor": 0,
  "metadata": {
    "colab": {
      "provenance": [],
      "authorship_tag": "ABX9TyMIvK/QYvqKKVQZFXZBq9It",
      "include_colab_link": true
    },
    "kernelspec": {
      "name": "python3",
      "display_name": "Python 3"
    },
    "language_info": {
      "name": "python"
    }
  },
  "cells": [
    {
      "cell_type": "markdown",
      "metadata": {
        "id": "view-in-github",
        "colab_type": "text"
      },
      "source": [
        "<a href=\"https://colab.research.google.com/github/ImitatedSky/Github-openCV/blob/main/openCV_draw.ipynb\" target=\"_parent\"><img src=\"https://colab.research.google.com/assets/colab-badge.svg\" alt=\"Open In Colab\"/></a>"
      ]
    },
    {
      "cell_type": "code",
      "execution_count": null,
      "metadata": {
        "id": "MHclv88bD_yd"
      },
      "outputs": [],
      "source": [
        "import cv2\n",
        "\n",
        "class ImageWindow:\n",
        "    def __init__(self, image_path):\n",
        "        # 讀取圖片\n",
        "        self.img = cv2.imread(image_path)\n",
        "        \n",
        "        # 設定滑鼠事件回呼函式\n",
        "        cv2.namedWindow(\"image\")\n",
        "        cv2.setMouseCallback(\"image\", self.mouse_callback)\n",
        "        \n",
        "        # 顯示圖片\n",
        "        self.show_image()\n",
        "        \n",
        "        # 紀錄目前圓形的中心座標及半徑\n",
        "        self.circle_center = None\n",
        "        self.circle_radius = None\n",
        "        \n",
        "    def show_image(self):\n",
        "        # 顯示圖片\n",
        "        cv2.imshow(\"image\", self.img)\n",
        "        \n",
        "        # 等待按下任意鍵\n",
        "        cv2.waitKey(1)\n",
        "        \n",
        "    def mouse_callback(self, event, x, y, flags, param):\n",
        "        # 清除上一個圓形\n",
        "        if self.circle_center is not None:\n",
        "            cv2.circle(self.img, self.circle_center, self.circle_radius, (0, 0, 0), -1)\n",
        "        \n",
        "        # 繪製新的圓形\n",
        "        if event == cv2.EVENT_LBUTTONDOWN:\n",
        "            self.circle_center = (x, y)\n",
        "            self.circle_radius = 10\n",
        "            cv2.circle(self.img, self.circle_center, self.circle_radius, (0, 0, 255), -1)\n",
        "            self.show_image()\n",
        "        \n",
        "        # 顯示滑鼠座標\n",
        "        if event == cv2.EVENT_MOUSEMOVE and flags == cv2.EVENT_FLAG_LBUTTON:\n",
        "            self.circle_center = (x, y)\n",
        "            self.circle_radius = 10\n",
        "            cv2.circle(self.img, self.circle_center, self.circle_radius, (0, 0, 255), -1)\n",
        "            self.show_image()\n",
        "            \n",
        "    def run(self):\n",
        "        # 等待按下 ESC 鍵後關閉視窗\n",
        "        while True:\n",
        "            if cv2.waitKey(1) == 27:\n",
        "                break\n",
        "        cv2.destroyAllWindows()\n",
        "\n",
        "# 建立 ImageWindow 物件並顯示視窗\n",
        "image_window = ImageWindow(\"image.jpg\")\n",
        "image_window.run()\n"
      ]
    }
  ]
}