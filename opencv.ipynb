{
  "nbformat": 4,
  "nbformat_minor": 0,
  "metadata": {
    "colab": {
      "provenance": [],
      "authorship_tag": "ABX9TyMB+NLVdaibj5vyFUxmFPqi",
      "include_colab_link": true
    },
    "kernelspec": {
      "name": "python3",
      "display_name": "Python 3"
    },
    "language_info": {
      "name": "python"
    },
    "gpuClass": "standard"
  },
  "cells": [
    {
      "cell_type": "markdown",
      "metadata": {
        "id": "view-in-github",
        "colab_type": "text"
      },
      "source": [
        "<a href=\"https://colab.research.google.com/github/ImitatedSky/Github-openCV/blob/main/opencv.ipynb\" target=\"_parent\"><img src=\"https://colab.research.google.com/assets/colab-badge.svg\" alt=\"Open In Colab\"/></a>"
      ]
    },
    {
      "cell_type": "code",
      "execution_count": null,
      "metadata": {
        "id": "6AJpy7xyMxdJ"
      },
      "outputs": [],
      "source": [
        "!pip install opencv-python\n",
        "import cv2 as cv\n",
        "import numpy as np\n",
        "import matplotlib.pyplot as plt # 導入matplotlib.pyplot函式庫"
      ]
    },
    {
      "cell_type": "code",
      "source": [
        "import os\n",
        "# 導入Google Drvie套件包\n",
        "from google.colab import drive\n",
        "# 將自己的雲端硬碟掛載到Colab虛擬機上\n",
        "# 參考資料來源:https://colab.research.google.com/drive/1i41Whco5KIb7EuntKYwTVORAkAwCmlkF\n",
        "drive.mount('/content/gdrive')\n",
        "\n",
        "!ls gdrive/MyDrive/img # 列出存放測試檔案的目錄清單"
      ],
      "metadata": {
        "id": "dnouRvhoNxth"
      },
      "execution_count": null,
      "outputs": []
    },
    {
      "cell_type": "code",
      "source": [
        "#@title 預設標題文字\n",
        "img1 = cv.imread('gdrive/MyDrive/img/eye.jpg') #@param [\"cv.imread('gdrive/MyDrive/img/eye.jpg')\", \"cv.imread('gdrive/MyDrive/img/Mirumo.jpg')\"] {type:\"raw\"}\n",
        "# img1 = cv.imread('gdrive/MyDrive/img/eye.jpg') #讀入掛載之雲端硬碟中的影像檔\n",
        "img2 = cv.cvtColor(img1, cv.COLOR_BGR2RGB) # 將影像色彩空間從 BGR888 轉成 RGB888\n",
        "# plt.figure(figsize=(10,10)) # 設定顯示尺寸\n",
        "plt.axis(\"off\") # 設定關閉XY軸刻尺\n",
        "plt.imshow(img2) # 繪製單張影像\n",
        "plt.show() # 顯示影像"
      ],
      "metadata": {
        "id": "KjyeZwQAO7_W"
      },
      "execution_count": null,
      "outputs": []
    },
    {
      "cell_type": "code",
      "source": [
        "img3 = cv.cvtColor(img2,cv.COLOR_BGR2GRAY) #灰階\n",
        "# img3 = cv2.imread('gdrive/MyDrive/img/eye.jpg',cv2.IMREAD_GRAYSCALE) #灰階\n",
        "\n",
        "titles = ['img1', 'img2','img3'] # 設定影像標題\n",
        "images = [img1, img2, img3] # 設定顯示影像\n",
        "n = len(images)  #3\n",
        "\n",
        "#繪製多張影像\n",
        "for i in range(n): \n",
        "  # plt.figure(figsize=(8, 6))\n",
        "  plt.subplot(1,n,i+1) # 指定子圖繪製位置\n",
        "  # plt.imshow(images[i]) # 繪製單張影像 不知為何灰階的有綠色\n",
        "  plt.imshow(images[i], cmap='gray')  #改cmap屬性\n",
        "  plt.title(titles[i]) # 顯示影像標題\n",
        "  plt.axis(\"off\") # 設定關閉XY軸刻尺\n",
        "plt.show() # 顯示影像"
      ],
      "metadata": {
        "id": "xYzb5eBYVW3V"
      },
      "execution_count": null,
      "outputs": []
    },
    {
      "cell_type": "code",
      "source": [
        "# Canny 降噪 尋找圖像的梯度 非極大值抑制 遲滯閾值\n",
        "edges = cv.Canny(img3,100,100)\n",
        "plt.subplot(121),plt.imshow(img3,cmap = 'gray')\n",
        "plt.title('Original Image'), plt.xticks([]), plt.yticks([])\n",
        "plt.subplot(122),plt.imshow(edges,cmap = 'gray')\n",
        "plt.title('Edge Image'), plt.xticks([]), plt.yticks([])\n",
        "plt.show()"
      ],
      "metadata": {
        "id": "MN6UctN42MJd"
      },
      "execution_count": null,
      "outputs": []
    },
    {
      "cell_type": "code",
      "source": [
        "#@title Laplace //Declare the variables we are going to use\n",
        "ddepth = cv.CV_16S #@param {type:\"integer\"} #cv.CV_16S\n",
        "kernel_size = 5 #@param {type:\"integer\"} #3\n",
        "\n",
        "# 高斯模糊 不用的話也可以試試\n",
        "img3_lap = cv.GaussianBlur(img3, (3, 3), 0)\n",
        "\n",
        "# Apply Laplace function\n",
        "dst = cv.Laplacian(img3_lap, ddepth, ksize=kernel_size)\n",
        "# converting back to uint8\n",
        "abs_dst = cv.convertScaleAbs(dst)\n",
        "plt.subplot(121),plt.imshow(abs_dst,cmap = 'gray')\n",
        "plt.title('Laplace Image'), plt.xticks([]), plt.yticks([])\n",
        "plt.show()"
      ],
      "metadata": {
        "id": "HJZcLj042-tu"
      },
      "execution_count": null,
      "outputs": []
    },
    {
      "cell_type": "code",
      "source": [
        "#@title Sobel\n",
        "\n",
        "ksize = 3 #@param {type:\"integer\"}\n",
        "scale = 1 #@param {type:\"integer\"}\n",
        "delta  = 0 #@param {type:\"integer\"}\n",
        "ddepth = cv.CV_16S #@param {type:\"integer\"} #cv.CV_16S\n",
        "\n",
        "\n",
        "# 高斯模糊\n",
        "img3_sobel = cv.GaussianBlur(img3, (3, 3), 0)\n",
        "\n",
        "x = cv.Sobel(img3_sobel, cv.CV_16S, 1, 0)\n",
        "y = cv.Sobel(img3_sobel, cv.CV_16S, 0, 1)\n",
        "absX = cv.convertScaleAbs(x)\n",
        "absY = cv.convertScaleAbs(y)\n",
        "\n",
        "# 融合兩張圖\n",
        "dst = cv.addWeighted( absX ,0.5 ,absY ,0.5,0)\n",
        "\n",
        "plt.figure(figsize=(12, 5))\n",
        "plt.subplot(121),plt.imshow(dst,cmap = 'gray')\n",
        "plt.title('Sobel Image'), plt.xticks([]), plt.yticks([])\n",
        "\n",
        "plt.show()"
      ],
      "metadata": {
        "cellView": "code",
        "id": "sHsFtH9y7RXg"
      },
      "execution_count": null,
      "outputs": []
    },
    {
      "cell_type": "code",
      "source": [
        "img_means = cv.imread('gdrive/MyDrive/img/eye.jpg') #@param [\"cv.imread('gdrive/MyDrive/img/eye.jpg')\", \"cv.imread('gdrive/MyDrive/img/Mirumo.jpg')\"] {type:\"raw\"}\n",
        "img_means = cv.cvtColor(img_means,cv.COLOR_BGR2GRAY) #灰階\n",
        "\n",
        "plt.figure(figsize=(12, 5))\n",
        "plt.subplot(111),plt.imshow(img_means,cmap = 'gray')\n",
        "plt.show()  "
      ],
      "metadata": {
        "id": "IrAq5m4ZZ5Lp"
      },
      "execution_count": null,
      "outputs": []
    },
    {
      "cell_type": "code",
      "source": [
        "img99 = cv.imread('gdrive/MyDrive/img/eye.jpg') #@param [\"cv.imread('gdrive/MyDrive/img/eye.jpg')\", \"cv.imread('gdrive/MyDrive/img/Mirumo.jpg')\"] {type:\"raw\"}\n",
        "img_draw = cv.cvtColor(img99,cv.COLOR_BGR2GRAY) #灰階\n",
        "img_draw = cv.circle(img_draw,(258,223), 5, (0,0,255), -1) #畫個圈\n",
        "\n",
        "plt.figure(figsize=(12, 5))\n",
        "plt.subplot(131),plt.imshow(img_draw,cmap = 'gray')\n",
        "plt.title('draw Image'), plt.xticks([]), plt.yticks([])\n",
        "plt.subplot(132),plt.imshow(img_draw,cmap = 'binary')\n",
        "plt.title('binary Image'), plt.xticks([]), plt.yticks([])\n",
        "plt.subplot(133),plt.imshow(img_draw,cmap = 'bone')\n",
        "plt.title('bone Image'), plt.xticks([]), plt.yticks([])\n",
        "plt.show()"
      ],
      "metadata": {
        "id": "UzISG6YmSGhy"
      },
      "execution_count": null,
      "outputs": []
    },
    {
      "cell_type": "code",
      "source": [
        "img_cir = cv.imread('gdrive/MyDrive/img/eye.jpg') #@param [\"cv.imread('gdrive/MyDrive/img/eye.jpg')\", \"cv.imread('gdrive/MyDrive/img/Mirumo.jpg')\", \"cv.imread('gdrive/MyDrive/img/2.jpg')\"] {type:\"raw\"}\n",
        "img_cir = cv.cvtColor(img_cir,cv.COLOR_BGR2GRAY) #灰階\n",
        "\n",
        "circles = cv.HoughCircles(img_cir, cv.HOUGH_GRADIENT, 1,\n",
        "                           100, param1=100, param2=30, minRadius=5, maxRadius=300)\n",
        "# print(circles)\n",
        "\n",
        "# for circle in circles[0]:\n",
        "#     # 圓的基本信息\n",
        "#     print(circle[2])\n",
        "#     # 座標行列\n",
        "#     x = int(circle[0])\n",
        "#     y = int(circle[1])\n",
        "#     # 半徑\n",
        "#     r = int(circle[2])\n",
        "#     # 在原圖用指定顏色標記出圓的位置\n",
        "#     img_cir = cv.circle(img_cir, (x, y), r, (0, 0, 255), 3)\n",
        "#     img_cir = cv.circle(img_cir, (x, y), 2, (255, 255, 0), -1)\n",
        "\n",
        "#     # 座標行列\n",
        "x = int(257)\n",
        "y = int(223)\n",
        "#     # 半徑\n",
        "r = int(65)\n",
        "img_cir = cv.circle(img_cir, (x, y), r, (0, 0, 255), 3)\n",
        "r2 = int(245)\n",
        "img_cir = cv.circle(img_cir, (x, y), r2, (0, 0, 255), 3)\n",
        "plt.figure(figsize=(12, 5))\n",
        "plt.subplot(111),plt.imshow(img_cir,cmap = 'gray')\n",
        "plt.show()  "
      ],
      "metadata": {
        "id": "y0gkLrTAKgTC"
      },
      "execution_count": null,
      "outputs": []
    },
    {
      "cell_type": "code",
      "source": [
        "#@title 圖片從左上開始繪圖，上下相反角度  theta=0 順時鐘往右\n",
        "\n",
        "\n",
        "import math\n",
        "img_0 = cv.imread('gdrive/MyDrive/img/eye.jpg') #@param [\"cv.imread('gdrive/MyDrive/img/eye.jpg')\", \"cv.imread('gdrive/MyDrive/img/Mirumo.jpg')\"] {type:\"raw\"}\n",
        "\n",
        "img_0 = cv.cvtColor(img_0,cv.COLOR_BGR2GRAY) #灰階\n",
        "\n",
        "r1 = np.zeros((235, 360))\n",
        "\n",
        "\n",
        "pi = math.pi\n",
        "\n",
        "x = int(257)\n",
        "y = int(223)\n",
        "rc=245\n",
        "\n",
        "\n",
        "if rc>x and rc > y:\n",
        "      rc = max(x,y)\n",
        "r2 = np.zeros((rc, 360))\n",
        "for r in range(rc):\n",
        "  for theta in range(360):\n",
        "    # rx[r,theta] = img_0[r,theta]\n",
        "    # if type(r*math.cos(theta*3)) == 'int':\n",
        "    \n",
        "    r2[rc-1-r,theta] = img_0[ y-int(r*math.sin(2*pi*theta/360)),\n",
        "                    x-int(r*math.cos(2*pi*theta/360))]\n",
        "          \n",
        "plt.figure(figsize=(12, 5))\n",
        "plt.subplot(111),plt.imshow(r2,cmap = 'bone')\n",
        "plt.title('r2(257,223,257) Image')\n",
        "\n",
        "\n",
        "x = int(257)\n",
        "y = int(223)\n",
        "rc=245\n",
        "\n",
        "r3 = np.zeros((rc, 360))\n",
        "for r in range(rc):\n",
        "  for theta in range(360):\n",
        "    # rx[r,theta] = img_0[r,theta]\n",
        "    # if type(r*math.cos(theta*3)) == 'int':\n",
        "    \n",
        "    r3[r,theta] = img_0[ y-int(r*math.sin(2*pi*theta/360)),\n",
        "                    x-int(r*math.cos(2*pi*theta/360))]\n",
        "    \n",
        "plt.figure(figsize=(12, 5))\n",
        "plt.subplot(121),plt.imshow(r3,cmap = 'bone')\n",
        "plt.title('r3(257,223,245) Image')\n",
        "\n",
        "img_0 = cv.line(img_0,(x,y), ( x-int(rc*math.cos(0)) ,\n",
        "                              y-int(rc*math.sin(0)) ) , (255,255,255),5)\n",
        "\n",
        "img_0 = cv.line(img_0,(x,y), ( x-int(rc*math.cos(2*pi*50/360)) ,\n",
        "                              y-int(rc*math.sin(2*pi*50/360)) ) , (200,200,255),1)\n",
        "\n",
        "img_0 = cv.line(img_0,(x,y), ( x-int(rc*math.cos(2*pi*80/360)) ,\n",
        "                              y-int(rc*math.sin(2*pi*80/360)) ) , (200,200,255),1)\n",
        "\n",
        "img_0 = cv.line(img_0,(x,y), ( x-int(rc*math.cos(2*pi*90/360)) ,\n",
        "                              y-int(rc*math.sin(2*pi*90/360)) ) , (200,200,255),5)\n",
        "img_0 = cv.line(img_0,(x,y), ( x-int(rc*math.cos(2*pi*180/360)) ,\n",
        "                              y-int(rc*math.sin(2*pi*180/360)) ) , (100,100,255),5)\n",
        "img_0 = cv.line(img_0,(x,y), ( x-int(rc*math.cos(2*pi*270/360)) ,\n",
        "                              y-int(rc*math.sin(2*pi*270/360)) ) , (0,0,255),5)\n",
        "\n",
        "plt.figure(figsize=(12, 5))\n",
        "plt.subplot(122),plt.imshow(img_0,cmap = 'bone')\n",
        "plt.title(' Image')\n",
        "\n",
        "\n",
        "plt.figure(figsize=(12, 5))\n",
        "dst = cv.Laplacian(r2, ddepth, ksize=kernel_size)\n",
        "# converting back to uint8\n",
        "abs_dst = cv.convertScaleAbs(dst)\n",
        "plt.subplot(111),plt.imshow(abs_dst,cmap = 'gray')\n",
        "plt.title('Laplace Image'), plt.xticks([]), plt.yticks([])\n",
        "\n",
        "plt.show()\n",
        "\n",
        "\n",
        "\n",
        "\n",
        "plt.show()\n",
        "\n",
        "\n"
      ],
      "metadata": {
        "cellView": "code",
        "id": "BBukZFz7crwp"
      },
      "execution_count": null,
      "outputs": []
    },
    {
      "cell_type": "code",
      "source": [
        "import math\n",
        "ddepth = cv.CV_16S #@param {type:\"integer\"} #cv.CV_16S\n",
        "kernel_size = 5 #@param {type:\"integer\"} #3\n",
        "img_0 = cv.imread('gdrive/MyDrive/img/eye.jpg') #@param [\"cv.imread('gdrive/MyDrive/img/eye.jpg')\", \"cv.imread('gdrive/MyDrive/img/Mirumo.jpg')\"] {type:\"raw\"}\n",
        "\n",
        "img_0 = cv.cvtColor(img_0,cv.COLOR_BGR2GRAY) #灰階\n",
        "\n",
        "r1 = np.zeros((235, 360))\n",
        "\n",
        "\n",
        "pi = math.pi\n",
        "\n",
        "\n",
        "x = int(257)\n",
        "y = int(223)\n",
        "rc=float(245)\n",
        "\n",
        "\n",
        "if rc>x or rc > y:\n",
        "      rc = max(x,y)\n",
        "r2 = np.zeros((rc, 360))\n",
        "for r in range(rc):\n",
        "  for theta in range(360):\n",
        "    # rx[r,theta] = img_0[r,theta]\n",
        "    # if type(r*math.cos(theta*3)) == 'int':\n",
        "    \n",
        "    r2[rc-1-r,theta] = img_0[ y-int(r*math.sin(2*pi*theta/360)),\n",
        "                    x-int(r*math.cos(2*pi*theta/360))]\n",
        "          \n",
        "plt.figure(figsize=(12, 5))\n",
        "plt.subplot(111),plt.imshow(r2,cmap = 'bone'), plt.xticks([]), plt.yticks([])\n",
        "plt.title('r2(257,223,257) Image')\n",
        "\n",
        "\n",
        "\n",
        "# Laplacian\n",
        "plt.figure(figsize=(12, 5))\n",
        "dst = cv.Laplacian(r2, ddepth, ksize=kernel_size)\n",
        "# converting back to uint8\n",
        "abs_dst = cv.convertScaleAbs(dst)\n",
        "plt.subplot(111),plt.imshow(abs_dst)\n",
        "plt.title('Laplace Image'), plt.xticks([]), plt.yticks([])\n",
        "\n",
        "plt.show()\n",
        "\n",
        "# Sobel\n",
        "ksize = 3 #@param {type:\"integer\"}\n",
        "scale = 1 #@param {type:\"integer\"}\n",
        "delta  = 0 #@param {type:\"integer\"}\n",
        "ddepth = cv.CV_16S #@param {type:\"integer\"} #cv.CV_16S\n",
        "\n",
        "\n",
        "# 高斯模糊\n",
        "img_sobel = cv.GaussianBlur(r2, (3, 3), 0)\n",
        "\n",
        "x = cv.Sobel(img_sobel, cv.CV_16S, 1, 0)\n",
        "y = cv.Sobel(img_sobel, cv.CV_16S, 0, 1)\n",
        "absX = cv.convertScaleAbs(x)\n",
        "absY = cv.convertScaleAbs(y)\n",
        "\n",
        "# 融合兩張圖\n",
        "dst1 = cv.addWeighted( absX ,0.5 ,absY ,0.5,0)\n",
        "\n",
        "plt.figure(figsize=(12, 5))\n",
        "plt.subplot(111),plt.imshow(dst1,cmap = 'gray')\n",
        "plt.title('Sobel Image'), plt.xticks([]), plt.yticks([])\n",
        "\n",
        "\n",
        "\n",
        "\n",
        "\n",
        "\n",
        "plt.show()\n",
        "\n",
        "\n"
      ],
      "metadata": {
        "cellView": "code",
        "id": "fcsZd5_RUaSE"
      },
      "execution_count": null,
      "outputs": []
    },
    {
      "cell_type": "code",
      "source": [
        "edge = cv.Canny(dst1, 60, 200)\n",
        "# edge = cv.Canny(img_means, 60, 200)\n",
        "\n",
        "plt.figure(figsize=(12, 5))\n",
        "plt.subplot(111),plt.imshow(edge,cmap = 'gray')\n",
        "plt.title('edge'), plt.xticks([]), plt.yticks([])"
      ],
      "metadata": {
        "id": "RNK0jLJfVPIO"
      },
      "execution_count": null,
      "outputs": []
    },
    {
      "cell_type": "code",
      "source": [
        "# 讀取圖片\n",
        "img_eye = cv.imread('gdrive/MyDrive/img/eye.jpg')\n",
        "img_eye = cv.cvtColor(img_eye, cv.COLOR_BGR2RGB) # 將影像色彩空間從 BGR888 轉成 RGB888\n",
        "\n",
        "# 獲取圖片寬度和高度\n",
        "height, width = img_eye.shape[:2]\n",
        "\n",
        "# 設置圓形參數\n",
        "center_x, center_y = int(257), int(223)\n",
        "radius = 245\n",
        "\n",
        "\n",
        "# 創建掩模圖像，並在其中畫一個白色圓形\n",
        "mask = np.zeros((height, width), dtype=np.uint8)\n",
        "cv.circle(mask, (center_x, center_y), radius, (255, 255, 255), -1)\n",
        "\n",
        "# 將掩模圖像應用於原始圖像，獲得需要的圖像區域\n",
        "masked_img = cv.bitwise_and(img_eye, img_eye, mask=mask)\n",
        "\n",
        "#順時鐘展開\n",
        "polar_img = cv.linearPolar(img_eye, (center_x, center_y), radius, cv.WARP_FILL_OUTLIERS | cv.WARP_POLAR_LOG)\n",
        "\n",
        "plt.figure(figsize=(12, 5))\n",
        "plt.subplot(111),plt.imshow(img_eye,cmap = 'gray')\n",
        "plt.title('img_eye'), plt.xticks([]), plt.yticks([])\n",
        "\n",
        "plt.figure(figsize=(12, 5))\n",
        "plt.subplot(111),plt.imshow(polar_img,cmap = 'gray')\n",
        "plt.title('polar_img')\n",
        "\n",
        "\n",
        "polar_img_resized = cv.resize(polar_img, (640, 360), interpolation=cv.INTER_AREA)\n",
        "\n",
        "plt.figure(figsize=(12, 5))\n",
        "plt.subplot(111),plt.imshow(polar_img_resized,cmap = 'gray')\n",
        "plt.title('polar_img_resized')\n",
        "print(polar_img.shape)"
      ],
      "metadata": {
        "id": "pk5VpL8pFSkt"
      },
      "execution_count": null,
      "outputs": []
    },
    {
      "cell_type": "code",
      "source": [
        "edges = cv.Canny(polar_img_resized,80,100)\n",
        "\n",
        "plt.figure(figsize=(12, 5))\n",
        "plt.subplot(111),plt.imshow(edges,cmap = 'gray')\n",
        "plt.title('polar_img1')\n",
        "print(polar_img.shape)"
      ],
      "metadata": {
        "id": "jZDZLIIvW5pG"
      },
      "execution_count": null,
      "outputs": []
    },
    {
      "cell_type": "code",
      "source": [
        "# 轉成灰度圖\n",
        "gray_img = cv.cvtColor(polar_img_resized, cv.COLOR_RGB2GRAY)\n",
        "\n",
        "# 統計每列中白點的數量\n",
        "white_pixel_count = np.sum(edges ==255 , axis=1)\n",
        "\n",
        "# 畫出統計圖\n",
        "plt.plot(white_pixel_count, range(edges.shape[0]))\n",
        "plt.gca().invert_yaxis()\n",
        "plt.xlabel('Number of white pixels')\n",
        "plt.ylabel('Vertical axis')\n",
        "plt.title('White pixel count on vertical axis')\n",
        "plt.show()"
      ],
      "metadata": {
        "id": "Og8awMsnkz4x"
      },
      "execution_count": null,
      "outputs": []
    },
    {
      "cell_type": "code",
      "source": [
        "# 轉成灰度圖\n",
        "gray_img = cv.cvtColor(polar_img_resized, cv.COLOR_RGB2GRAY)\n",
        "\n",
        "# 統計每行中白點的數量\n",
        "white_pixel_count = np.sum(edges == 255, axis=0)\n",
        "\n",
        "# 畫出統計圖\n",
        "plt.plot(range(edges.shape[1]), white_pixel_count)\n",
        "plt.xlabel('Number of white pixels')\n",
        "plt.ylabel('Horizontal axis')\n",
        "plt.title('White pixel count on horizontal axis')\n",
        "plt.show()"
      ],
      "metadata": {
        "id": "RFTyNuhHqZny"
      },
      "execution_count": null,
      "outputs": []
    },
    {
      "cell_type": "code",
      "source": [
        "print(white_pixel_count)"
      ],
      "metadata": {
        "id": "G5wMmNGbrz4W"
      },
      "execution_count": null,
      "outputs": []
    },
    {
      "cell_type": "code",
      "source": [
        "import numpy as np\n",
        "\n",
        "def compute_inflection_points(data, threshold=20):\n",
        "  # 計算每個點的斜率\n",
        "  diff = np.diff(data)\n",
        "  # 判斷斜率的正負性\n",
        "  sign = np.sign(diff)\n",
        "  # 求二階差分\n",
        "  diff2 = np.diff(sign)\n",
        "  # 求極值點的索引，其中1表示極小值，-1表示極大值\n",
        "  inflection_point_indices = np.where(diff2 != 0)[0] + 1\n",
        "  # 將極值點分為極小值和極大值\n",
        "  inflection_point_signs = sign[inflection_point_indices - 1] \n",
        "  # 取極小值和極大值的索引\n",
        "  min_indices = inflection_point_indices[inflection_point_signs == 1]\n",
        "  max_indices = inflection_point_indices[inflection_point_signs == -1]\n",
        "  # 找到每個極小值和極大值之間的距離\n",
        "  distances = np.abs(min_indices.reshape(-1, 1) - max_indices.reshape(1, -1))\n",
        "  # 將大於閾值的距離視為反折點\n",
        "  inflection_points = np.argwhere(distances > threshold)\n",
        "  return inflection_points"
      ],
      "metadata": {
        "id": "sDLkEEuzsqcm"
      },
      "execution_count": null,
      "outputs": []
    },
    {
      "cell_type": "code",
      "source": [],
      "metadata": {
        "id": "-d1gOQWhxrA2"
      },
      "execution_count": null,
      "outputs": []
    },
    {
      "cell_type": "code",
      "source": [
        "inflection_points = compute_inflection_points(white_pixel_count)\n",
        "print(inflection_points)"
      ],
      "metadata": {
        "id": "o6L9dhIks1O0"
      },
      "execution_count": null,
      "outputs": []
    }
  ]
}